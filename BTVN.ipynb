{
  "nbformat": 4,
  "nbformat_minor": 0,
  "metadata": {
    "colab": {
      "provenance": [],
      "authorship_tag": "ABX9TyP4hzenJM2qfhddOMfqPkkZ",
      "include_colab_link": true
    },
    "kernelspec": {
      "name": "python3",
      "display_name": "Python 3"
    },
    "language_info": {
      "name": "python"
    }
  },
  "cells": [
    {
      "cell_type": "markdown",
      "metadata": {
        "id": "view-in-github",
        "colab_type": "text"
      },
      "source": [
        "<a href=\"https://colab.research.google.com/github/Thanh25082005/HIT_PYTHON_PRIVATE_2024/blob/master/BTVN.ipynb\" target=\"_parent\"><img src=\"https://colab.research.google.com/assets/colab-badge.svg\" alt=\"Open In Colab\"/></a>"
      ]
    },
    {
      "cell_type": "code",
      "execution_count": 1,
      "metadata": {
        "colab": {
          "base_uri": "https://localhost:8080/",
          "height": 124
        },
        "id": "dU7tLB0w0Izj",
        "outputId": "bde917d9-870f-41bb-d693-f07b262bf2e7"
      },
      "outputs": [
        {
          "output_type": "error",
          "ename": "SyntaxError",
          "evalue": "invalid syntax (<ipython-input-1-4f902b81ab1a>, line 1)",
          "traceback": [
            "\u001b[0;36m  File \u001b[0;32m\"<ipython-input-1-4f902b81ab1a>\"\u001b[0;36m, line \u001b[0;32m1\u001b[0m\n\u001b[0;31m    câu 1: Python có thể: +, Phát triển web +, phát triển game +. xử lý hình ảnh và video +, sử dụng trong khoa học dữ liệu và học máy +, phát triển AI\u001b[0m\n\u001b[0m        ^\u001b[0m\n\u001b[0;31mSyntaxError\u001b[0m\u001b[0;31m:\u001b[0m invalid syntax\n"
          ]
        }
      ],
      "source": [
        "\n",
        "câu 1: Python có thể: +, Phát triển web +, phát triển game +. xử lý hình ảnh và video +, sử dụng trong khoa học dữ liệu và học máy +, phát triển AI\n",
        "\n",
        "Câu 2: *, Python: +, Dễ học và sử dụng do cú pháp dễ đọc +, Đa năng: được sử dụng rộng dãi trong nhiều lĩnh vực +, thư viện phong phú: có nhiều thư viện và framework hỗ trợ *, C++: +, Hiệu năng cao +, Hỗ trợ lập trình hướng đối tượng và lập trình thủ tục +, cú pháp phức tạp hơn +, thư viện chuẩn phong phú: thư viện Standard Library và các thư viện bên thứ ba.\n",
        "\n",
        "Câu 3: Python là ngôn ngữ thông dịch vì: Mã nguồn python được thực thi trực tiếp bởi trình thông dịch Python, thay vì được biên dịch thành mã máy trước khi chạy như các ngôn ngữ biên dịch\n",
        "\n",
        "Câu 5: -, Khai báo và gán giá trị: <Tên_biến> = <Giá_trị> ví dụ: int a = 3 Python sẽ tự định nghĩa kiểu định liệu cho biến.\n",
        "\n",
        "-, Các toán tử trong python: +,Toán tử số học: + - * / %(chia lấy dư),**(lũy thừa), //(chia lấy phần nguyên) ví dụ: a = 10 b = 3 print(a + b)\n",
        "print(a - b)\n",
        "print(a * b)\n",
        "print(a / b) print(a % b) print(a ** b) print(a // b)\n",
        "\n",
        "+, Toán tử logic: and, or, not ví dụ: print(a > 5 and b < 10) # True print(a > 5 or b > 10) # True print(not(a > 5)) # False\n",
        "\n",
        "+, Toán tử so sánh: ==, !=, >, <, >=, <= ví dụ: a = 5 b = 3 print(a == b) # False print(a != b) # True print(a > b) # True print(a < b) # False print(a >= b) # True print(a <= b) # False\n",
        "\n",
        "+, Toán tử gán: =, +=, -=, *=, /= %= ví dụ: c = 5 c += 2\n",
        "c *= 3\n",
        "\n",
        "-, Các kiểu dữ liệu trong python: +, Kiểu số (Number): int (số nguyên), float (số thực), complex (số phức)\n",
        "\n",
        "+, Kiểu chuỗi (String): Được bao bởi dấu nháy đơn ('') hoặc nháy kép (\"\")\n",
        "\n",
        "+, Kiểu danh sách (List): Danh sách các phần tử có thể thay đổi\n",
        "\n",
        "+, Kiểu bộ (Tuple): Danh sách các phần tử không thể thay đổi\n",
        "\n",
        "+, Kiểu từ điển (Dictionary): Cặp khóa-giá trị\n",
        "\n",
        "+, Kiểu tập hợp (Set): Tập hợp các phần tử không trùng lặp"
      ]
    }
  ]
}