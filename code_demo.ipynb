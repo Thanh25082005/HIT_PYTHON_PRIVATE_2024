{
  "nbformat": 4,
  "nbformat_minor": 0,
  "metadata": {
    "colab": {
      "provenance": [],
      "authorship_tag": "ABX9TyMew3fvzChxW0f0Gq+UwaQ0",
      "include_colab_link": true
    },
    "kernelspec": {
      "name": "python3",
      "display_name": "Python 3"
    },
    "language_info": {
      "name": "python"
    }
  },
  "cells": [
    {
      "cell_type": "markdown",
      "metadata": {
        "id": "view-in-github",
        "colab_type": "text"
      },
      "source": [
        "<a href=\"https://colab.research.google.com/github/Thanh25082005/HIT_PYTHON_PRIVATE_2024/blob/master/code_demo.ipynb\" target=\"_parent\"><img src=\"https://colab.research.google.com/assets/colab-badge.svg\" alt=\"Open In Colab\"/></a>"
      ]
    },
    {
      "cell_type": "code",
      "execution_count": 4,
      "metadata": {
        "colab": {
          "base_uri": "https://localhost:8080/"
        },
        "id": "dU7tLB0w0Izj",
        "outputId": "fa55ac7a-7ea2-4084-cc3d-961062faa5e6"
      },
      "outputs": [
        {
          "output_type": "stream",
          "name": "stdout",
          "text": [
            "Hello word\n",
            "3\n",
            "Thanh\n"
          ]
        }
      ],
      "source": [
        "print(\"Hello word\")\n",
        "a = 1\n",
        "b = 2\n",
        "c = \"Thanh\"\n",
        "print(a+b)\n",
        "print(c)"
      ]
    }
  ]
}